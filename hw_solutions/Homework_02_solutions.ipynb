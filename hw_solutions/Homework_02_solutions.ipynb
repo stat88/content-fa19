{
 "cells": [
  {
   "cell_type": "code",
   "execution_count": 1,
   "metadata": {},
   "outputs": [],
   "source": [
    "# NO CODE\n",
    "from datascience import *\n",
    "from prob140 import *\n",
    "%matplotlib inline\n",
    "import matplotlib.pyplot as plt\n",
    "plt.style.use('fivethirtyeight')\n",
    "import numpy as np\n",
    "from scipy import special"
   ]
  },
  {
   "cell_type": "markdown",
   "metadata": {},
   "source": [
    "# Homework 2 #"
   ]
  },
  {
   "cell_type": "markdown",
   "metadata": {},
   "source": [
    "### Instructions\n",
    "\n",
    "In all Stat 88 homework, you will be providing written answers, not code. We encourage you to hand-write your answers. You can LaTeX your answers if you wish, but staff will not be able to assist you with LaTeX related issues. It is your responsibility to ensure that the homework is submitted completely and properly to Gradescope. Refer to the bottom of the notebook for submission instructions.\n",
    "\n",
    "### How to Do Your Homework\n",
    "  The point of homework is for you to try your hand at using what you've learned in class. The steps to follow:\n",
    "\n",
    "- Go to lecture and sections, and also go over the relevant text sections and discussion sections before starting on the homework. You should not expect to simply remember all the ideas and details from what you heard in class.\n",
    "- Attempt the homework problems by yourself with the text and section work at hand. The step above will help this step go faster and be more fruitful.\n",
    "- At this point, seek help if you need it. Don't ask how to do the problem — ask how to get started, or explain where you are stuck and ask for a nudge to get you past that point.\n",
    "- For a good measure of your understanding, keep track of the fraction of the homework you can do by yourself or with minimal help. It's a better measure than your homework score, and only you can measure it.\n",
    "- **Show all work. Give reasoning. The question isn't always going to ask for it, because we assume that you will provide justification for your answers. Calculations are fine as justifications, as are diagrams that are clearly labeled to show what's going on.**\n",
    "- **Draw lots of diagrams. They are really helpful, as in this homework where a Venn diagram or two might save you a headache or two.**"
   ]
  },
  {
   "cell_type": "markdown",
   "metadata": {},
   "source": [
    "## 1. Classes in a Sample ##\n",
    "\n",
    "A data scientist studying a manufacturing process classifies each item produced by the process as either Poor, Acceptable, or Excellent. Assume that the classes of different items are independent of each other and that each item falls into the classes according to the following probabilities:\n",
    "\n",
    "| Poor | Acceptable | Excellent |\n",
    "|------|------------|-----------|\n",
    "| 0.25 | 0.6        | 0.15      |\n",
    "\n",
    "\n",
    "The data scientist receives three items produced by the manufacturing process.\n",
    "\n",
    "Find the chance that:\n",
    "\n",
    "**a)** all of items are Acceptable\n",
    "\n",
    "**b)** none of the items is Acceptable\n",
    "\n",
    "**c)** at least one of the items is Excellent\n",
    "\n",
    "**d)** not all of the items are Excellent\n",
    "\n",
    "**e)** there is one item of each class\n"
   ]
  },
  {
   "cell_type": "markdown",
   "metadata": {},
   "source": [
    "#solution\n",
    "\n",
    "### [Student Solution] Classes in a Sample ###\n",
    "\n",
    "**a)** $0.6^3$  $~~~~~$ **b)** $0.4^3$ $~~~~~$ **c)** $1 - 0.85^3$ $~~~~~$ **d)** $1 - 0.15^3$ $~~~~~$ **e)** $6 \\times 0.25 \\times 0.6 \\times 0.15$"
   ]
  },
  {
   "cell_type": "markdown",
   "metadata": {},
   "source": [
    "## 2. Balls in Boxes ##\n",
    "\n",
    "Students in probability classes sometimes wonder by probabilists seem to have a peculiar fascination with balls being thrown at random into boxes or drawn at random from urns. It's not just because probabilists are weird. It's because the image of balls and boxes is one unified way of thinking about repeated trials in diverse settings.\n",
    "\n",
    "For example, balls thrown at random into boxes independently of each other is a way of visualizing independent repeated trials that have equally likely outcomes. \n",
    "\n",
    "- Tossing a coin 10 times and keeping track of heads and tails is like throwing 10 balls independently at random into two boxes labeled H and T. The number of heads is the number of balls that fall in Box H.\n",
    "- Rolling a die 15 times and keeping track of the faces that appear is like throwing 15 balls independently at random into six boxes labeled $1, 2, 3, 4, 5, 6$.\n",
    "- Sampling $n$ times at random with replacement from a population of $N$ individuals is like throwing $n$ balls independently at random into $N$ boxes labeled $1, 2, \\ldots, N$. \n",
    "\n",
    "\n",
    "**a)** A random number generator that draws digits at random with replacement from $\\{0, 1, 2, 3, 4, 5, 6, 7, 8, 9\\}$ is run three times. Find the chance that the digits drawn can form the number 105 (the room number of our lecture hall) by rearrangement if necessary. Start by filling in the blanks in the following sentence; the first two blanks should be filled with integers. \"This experiment is like throwing $\\underline{~~~~~~~~~~}$ balls independently at random into $\\underline{~~~~~~~~~~}$ boxes labeled $\\underline{~~~~~~~~~~~~~~~~~~~~~~~~~~~~~~~}$.\" Then imagine where the balls must land to make the event occur. \n",
    "\n",
    "**b)** Five people enter an Evans Hall elevator (going up) on the first floor. Assume that each person presses the button for one of floors 2 through 10 at random, independently of all others. Find the chance that they press five different buttons. Start by filling in the blanks in the following sentence; the first two blanks should be filled with integers. \"This experiment is like throwing $\\underline{~~~~~~~~~~}$ balls independently at random into $\\underline{~~~~~~~~~~}$ boxes labeled $\\underline{~~~~~~~~~~~~~~~~~~~~~~~~~~~~~~~}$.\" Then imagine where the balls must land to make the event occur. \n"
   ]
  },
  {
   "cell_type": "markdown",
   "metadata": {},
   "source": [
    "#solution\n",
    "\n",
    "### [Student Solution] Balls in Boxes ###\n",
    "\n",
    "**a)** 3, 10, 0 through 9. The first ball must land in any one of the three boxes 1, 0, 5; the second in any of the other two; etc. Answer: $(3/10)(2/10)(1/10)$\n",
    "\n",
    "**b)** 5, 9, 2 through 10. Answer: $(9/9)(8/9)(7/9)(6/9)(5/9)$"
   ]
  },
  {
   "cell_type": "markdown",
   "metadata": {},
   "source": [
    "## 3. Detecting Breast Cancer ##\n",
    "\n",
    "A 2011 [article](https://ebm.bmj.com/content/16/6/163) in the British Medical Journal attempts to elucdiate Bayes' Rule for the medical profession. It's well worth reading and has some illuminating graphics. In this exercise you will confirm a result stated in the article. Useful terminology:\n",
    "\n",
    "- The *sensitivity* of a test for a medical condition is the proportion of correctly diagnosed patients among those who have the condition.\n",
    "- The *specificity* of the test is the proportion of correctly diagnosed patients among those who do not have the condition.\n",
    "\n",
    "Read those definitions a couple of times and note that a good test should have high values of both sensitivity and specificity.\n",
    "\n",
    "In the section Special Cases, the authors consider a 45-year-old woman who has a 1% chance of getting breast cancer in the subsequent five years. The article says, \"The sensitivity of routine screening mammography ranges from 71% to 96% and the specificity ranges from 94% to 97%. Using values of 80% for sensitivity and 96% for specificity, a positive test increases the probability to 17%.\"\n",
    "\n",
    "For this problem, show your work in finding each probability and box the final decimal answer.\n",
    "\n",
    "**a)** Use the same values as in the authors' calculation and confirm their result that \"a positive test increases the probability to 17%.\"\n",
    "\n",
    "**b)** Find all of the following; percents are fine too:\n",
    "\n",
    "(i) the chance that the woman won't get breast cancer in the subsequent five years\n",
    "\n",
    "(ii) the chance that the woman won't get breast cancer in the subsequent five years, if her test result is negative\n",
    "\n",
    "(iii) the chance that the woman won't get breast cancer in the subsequent five years, if her test result is positive\n",
    "\n",
    "(iv) the chance that the woman's test result is negative\n",
    "\n",
    "\n",
    "**c)** Suppose a woman went to get tested because she believed she had a 10% chance of getting breast cancer in the subsequent five years. What would be her probability of getting the disease, based on a positive test result? Use a sensitivity value of 80% and a specificity value of 96%."
   ]
  },
  {
   "cell_type": "markdown",
   "metadata": {},
   "source": [
    "#solution\n",
    "\n",
    "### [Student Solution] Detecting Breast Cancer ###\n",
    "\n",
    "**a)** Draw a tree diagram and use Bayes' rule. Answer: $\\frac{ 0.01 \\times 0.8}{0.01 \\times 0.08 ~ + ~ 0.99 \\times 0.04} = 0.168$\n",
    "\n",
    "**b)** Let $B$ = \"the woman gets breast cancer within the subsequent five years\". By Part **a**, $P(B \\mid + ) = 17\\%$.\n",
    "\n",
    "(i) $P(B^c) = 0.99$ $~~~~~$ (ii) $P(B^c \\mid - ) = 0.9979$ $~~~~~$\n",
    "(iii) $P(B^c \\mid +) = 0.83$ $~~~~~$ (iv) $P( - ) = 0.9524$\n",
    "\n",
    "**c)** Like **a** but with a different prior. Answer: $0.6897$"
   ]
  },
  {
   "cell_type": "markdown",
   "metadata": {},
   "source": [
    "## 4. Chocolate Box ##\n",
    "\n",
    "A box contains 12 chocolates, 3 of which are white chocolate, 4 milk chocolate, and 5 dark chocolate. \n",
    "\n",
    "I am sharing the box with three of my friends. The four of us take turns, each one drawing a chocolate at random from those available in the box. Yes, we're drawing without replacement. We intend to eat the chocolates, not put them back.\n",
    "\n",
    "Politely, I let my friends draw before me.\n",
    "\n",
    "For each of the subparts, provide your answer as an unsimplified fractional expression.\n",
    "\n",
    "**a)** What is the chance that I draw a dark chocolate?\n",
    "\n",
    "**b)** Given that none of my friends draws a dark chocolate, what is the chance that I draw a dark chocolate?\n",
    "\n",
    "**c)** What is the chance that all four of us draw milk chocolates?\n",
    "\n",
    "**d)** What is the chance that the friend who gets to select first draws a dark chocolate and I draw a dark chocolate too?"
   ]
  },
  {
   "cell_type": "markdown",
   "metadata": {},
   "source": [
    "#solution\n",
    "\n",
    "### [Student Solution] Chocolate Box ###\n",
    "\n",
    "Throughout, use symmetry in sampling without replacement.\n",
    "\n",
    "**a)** $5/12$ $~~~~~$ **b)** $5/9$ $~~~~~$ **c)** $(4/12)(3/11)(2/10)(1/9)$ $~~~~~$ **d)** $(5/12)(4/11)$"
   ]
  },
  {
   "cell_type": "markdown",
   "metadata": {},
   "source": [
    "## 5. Suzuki or Lamborghini? ##\n",
    "Suzuki is one of most commonly owned makes of cars in our county (Alameda). A car heading from Berkeley to San Francisco is pulled over on the freeway for speeding. Suppose I tell you that the car is either a Suzuki or a Lamborghini, and you have to guess which of the two is more likely. \n",
    "\n",
    "What would you guess, and why? Explain how your guess makes use of the material covered in class this week. \n",
    "\n",
    "Note: This is not the standard kind of math question you are used to answering. You have to answer in words, based on incomplete information, giving a cogent argument based not just on opinion but on probability theory. Welcome to data science!"
   ]
  },
  {
   "cell_type": "markdown",
   "metadata": {},
   "source": [
    "#solution\n",
    "\n",
    "### [Student Solution] Suzuki or Lamborghini? ###\n",
    "Suzuki. As a proportion of local cars, they are far more common than Lamborghinis. Bayes' Rule says that because of the difference in their base rates (that is, prevalence in the local population), the chance\n",
    "\n",
    "$P(\\text{Lamborghini} \\mid \\text{Suzuki or Lamborghini pulled over})$ \n",
    "\n",
    "will be smaller than \n",
    "\n",
    "$P(\\text{Suzuki} \\mid \\text{Suzuki or Lamborghini pulled over})$ \n",
    "\n",
    "Factors such as what kinds of drivers tend to speed or who gets pulled over more might affect $P(\\text{pulled over} \\mid \\text{Suzuki})$ and $P(\\text{pulled over} \\mid \\text{Lamborghini})$, but that's not what the question is asking about."
   ]
  },
  {
   "cell_type": "markdown",
   "metadata": {},
   "source": [
    "## Submission Instructions     \n",
    "Please follow the directions below to properly submit your homework.\n",
    "\n",
    "*  Scan all pages of **your work** into a PDF. You can use any scanner or a phone using applications such as CamScanner. Please **DO NOT** simply take pictures using your phone. \n",
    "* Please start a new page for each question. If you have already written multiple questions on the same page, you can crop the image in CamScanner or fold your page over (the old-fashioned way). This helps expedite grading.\n",
    "* It is your responsibility to check that all the work on all the scanned pages is legible.\n",
    "\n",
    "\n",
    "### Submitting\n",
    "* Submit the assignment to Homework1 on Gradescope. Use the entry code **MYBG2Z** if you haven't already joined the class.\n",
    "* **Make sure to assign each page of your pdf to the correct question.**\n"
   ]
  }
 ],
 "metadata": {
  "kernelspec": {
   "display_name": "Python 3",
   "language": "python",
   "name": "python3"
  },
  "language_info": {
   "codemirror_mode": {
    "name": "ipython",
    "version": 3
   },
   "file_extension": ".py",
   "mimetype": "text/x-python",
   "name": "python",
   "nbconvert_exporter": "python",
   "pygments_lexer": "ipython3",
   "version": "3.6.3"
  }
 },
 "nbformat": 4,
 "nbformat_minor": 2
}
